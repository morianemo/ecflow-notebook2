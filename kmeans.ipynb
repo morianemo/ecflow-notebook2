{
 "cells": [
  {
   "cell_type": "markdown",
   "metadata": {},
   "source": [
    "# Clustering\n",
    "## ENS clusters\n",
    "Weather regimes clustering is an interesting topic.\n",
    "\n",
    "* [Weather regimes](https://software.ecmwf.int/wiki/download/attachments/34408561/Molteni_Weather-regimes.pdf?api=v2)\n",
    "* [Clustering](https://software.ecmwf.int/wiki/download/attachments/34408561/Ferranti_Clustering.pdf?api=v2)\n",
    "* [YA](https://software.ecmwf.int/wiki/display/~mobo/Clustering+-+ENS+Medium-Range)\n",
    "* [more](https://software.ecmwf.int/wiki/display/~mobo/Clustering+-+ENS+Medium-Range#Clustering-ENSMedium-Range-AdditionalSourcesofInformation)\n",
    "* [courses](https://software.ecmwf.int/wiki/display/OPTR/Training+courses+--+Multimedia+resources)\n",
    "* [seas](https://software.ecmwf.int/wiki/display/SEAS/Circulation+regime+clustering+diagnostics)\n",
    "* [ML](https://www.analyticsvidhya.com/blog/2017/09/common-machine-learning-algorithms/)\n",
    "* Member states can start from a provided set of scripts and sources to design a customed clustering system.\n",
    "\n",
    "  ``/home/us/usx/enscluster/1.2/enscluster.sh > out.tmp``\n",
    "* The original script is turned into a ecFlow task: few variables are added, include head and tail\n",
    "  For the clustens suite to run, **copy the clustepsens.ecf script into the ECF_HOME** directory for the server to use it.\n",
    "* It is run in operation as the clusteps task."
   ]
  },
  {
   "cell_type": "code",
   "execution_count": 2,
   "metadata": {},
   "outputs": [],
   "source": [
    "# from __future__ import print_function\n",
    "import os, pwd, sys; \n",
    "from datetime import date, timedelta\n",
    "loc = \"/usr/local/lib/python3.5/site-packages/ecflow\"\n",
    "sys.path.append(loc)\n",
    "from ecf import (Client, Defs, Suite, Family, Task, Defstatus, Edit, Label, Repeat, Time, Trigger)\n",
    "home = os.getenv(\"HOME\") + \"/ecflow_server\"\n",
    "yesterday = date.today() - timedelta(1)\n",
    "# SUITE\n",
    "name = \"enscluster\"\n",
    "node = Suite(name).add(  # SUITE DEFINITION\n",
    "    Defstatus(\"suspended\"),\n",
    "    Edit(ECF_HOME=home, ECF_INCLUDE=home + \"/include\", ECF_FILES=home + \"/files\",\n",
    "         ECF_EXTN=\".ecg\",  # current convention: ecf for user provided script\n",
    "         ECF_OUT=\"%ECF_HOME%\", ECF_JOB_CMD=\"%ECF_JOB% > %ECF_JOBOUT% 2>&1\", ),\n",
    "    Family(\"ms\").add(\n",
    "        Label(\"info\", \"run standalone script\"),\n",
    "        Task(\"cmd\").add(\n",
    "            Defstatus(\"complete\"),\n",
    "            Edit(CMD=\"/home/us/usx/enscluster/1.2/enscluster.sh\",\n",
    "                 ECF_EXTN=\".ecg\",  # generated\n",
    "                 ARGS=\"\")), ),\n",
    "    Family(\"main\").add(\n",
    "        Repeat(\"YMD\", yesterday.strftime(\"%Y%m%d\"), 20320110, 1, \"date\"),\n",
    "        Family(\"make\").add(\n",
    "            Defstatus(\"complete\"),\n",
    "            Label(\"info\", \"compile and run, execute to run\"),\n",
    "            Task(name).add(Edit(COMPILE=\"true\", ECF_EXTN=\".ecg\", TASK=\"cmd\"))),\n",
    "        Task(name).add(Time(\"08:00\")), ), )\n",
    "with open(home + \"/files/cmd.ecg\", 'w') as task_template:\n",
    "    print(\"\"\"#!%SHELL:/bin/bash%\n",
    "%include <head.h>\n",
    " %CMD:echo% %ARGS:%\n",
    "%include <tail.h>\"\"\", file=task_template)\n",
    "    \n",
    "# DEFS\n",
    "defs = Defs()\n",
    "defs.add_suite(node)\n",
    "path = '/' + name\n",
    "\n",
    "# CLIENT: play/load/replace\n",
    "def get_username(): return pwd.getpwuid(os.getuid())[0]\n",
    "def get_uid(): return pwd.getpwnam(get_username()).pw_uid\n",
    "ECF_PORT = os.getenv(\"ECF_PORT\", 1500 + int(pwd.getpwnam(get_username()).pw_uid))\n",
    "client = Client(\"localhost@%s\" % ECF_PORT)  # PYTHON CLIENT\n",
    "client.replace(path, defs)  # load/replace the top node (suite)\n",
    "client.begin_suite(name)  # BEGIN suite: UNKNOWN -> QUEUED\n",
    "client.resume(path) # RESUME suite: SUSPENDED -> create job and submit"
   ]
  },
  {
   "cell_type": "code",
   "execution_count": null,
   "metadata": {},
   "outputs": [],
   "source": []
  }
 ],
 "metadata": {
  "kernelspec": {
   "display_name": "Python 3",
   "language": "python",
   "name": "python3"
  },
  "language_info": {
   "codemirror_mode": {
    "name": "ipython",
    "version": 3
   },
   "file_extension": ".py",
   "mimetype": "text/x-python",
   "name": "python",
   "nbconvert_exporter": "python",
   "pygments_lexer": "ipython3",
   "version": "3.6.7"
  }
 },
 "nbformat": 4,
 "nbformat_minor": 2
}
