{
 "cells": [
  {
   "cell_type": "markdown",
   "metadata": {
    "slideshow": {
     "slide_type": "slide"
    }
   },
   "source": [
    "# ecFlow eLearning episode-2"
   ]
  },
  {
   "cell_type": "markdown",
   "metadata": {
    "slideshow": {
     "slide_type": "slide"
    }
   },
   "source": [
    "## Reminder\n",
    "* How to start the server?\n",
    "* What is a definition file?\n",
    "* What are tasks templates scripts and headers, and their location?\n",
    "* [ecFlow documentation](https://software.ecmwf.int/wiki/display/ECFLOW/Documentation)\n",
    "* [slides from the course](https://software.ecmwf.int/wiki/download/attachments/13207146/ecflowcourse2018.pdf)\n",
    "* Here we focus on migrating scripts to ecflow p50\n",
    "  * [shell task example](#Turning-a-cron-into-a-task): retrieve observation regularly. `curl` `cron`\n",
    "  * [another example](#Add-a-cron-task-for-ecFlow-server-daily-log-renewal): daily log renewal `bash`\n",
    "  * [python task example](#Turning-a-python-script-into-a-task): the Lorenz system `python` `numpy` `matplotlib`"
   ]
  },
  {
   "cell_type": "markdown",
   "metadata": {
    "slideshow": {
     "slide_type": "slide"
    }
   },
   "source": [
    "  * designing a suite p52-57:\n",
    "    * Clustering [kmeans](kmeans.ipynb)  \n",
    "    * [The ENIAC project](#ENIAC) which uses `octave`\n",
    "    * Atmospheric-Oceanographic-DA models\n",
    "        * Link to [DA](DA.ipynb) `git` `enkf` ![NERSC](https://www.nersc.no/sites/www.nersc.no/files/cti_flex_logo.png)\n",
    "        * Link to [LMDZ](LMDZ.ipynb) `snv` `gfortran` ![LMDZ](http://lmdz.lmd.jussieu.fr/logo.png)\n",
    "        * Link to [NEMO](NEMO.ipynb) `netcdf` ![nemo](https://www.nemo-ocean.eu/wp-content/uploads/NEMO_logo_Black_159x50.png)\n",
    "        * Link to [WRF](WRF.ipynb) ![wrf](http://www2.mmm.ucar.edu/wrf/users/images/wrf_logo.jpg)\n",
    "        * Link to [OpenIFS?](OpenIFS.ipynb)\n",
    "\n",
    "From the initial e-learning:\n",
    "* [ecFlow eLearning](https://www.ecmwf.int/assets/elearning/ecflow/ecflow1/story_html5.html)\n",
    "* [Docker](https://www.docker.com/) may be used to practice ecFlow with a local ecFlow image `docker` ![docker](https://upload.wikimedia.org/wikipedia/commons/thumb/4/4e/Docker_%28container_engine%29_logo.svg/220px-Docker_%28container_engine%29_logo.svg.png)\n",
    "* A [dockerfile](https://hub.docker.com/r/eowyn/debian-ecflowui/~/dockerfile/) may help to install ecFlow.\n",
    "\n",
    "This tutorial illustrates the following slides from the course."
   ]
  },
  {
   "cell_type": "code",
   "execution_count": 1,
   "metadata": {
    "slideshow": {
     "slide_type": "skip"
    }
   },
   "outputs": [
    {
     "name": "stdout",
     "output_type": "stream",
     "text": [
      "/usr/bin/curl\n",
      "#WAR: octave is a requirement below\n",
      "/usr/local/bin/ecflow_server\n",
      "/usr/bin/dot\n",
      "numpy OK\n",
      "matplotlib OK\n",
      "scipy OK\n",
      "graphviz OK\n"
     ]
    }
   ],
   "source": [
    "%%bash\n",
    "# sudo apt get install graphviz octave\n",
    "for run in curl octave ecflow_server dot; do\n",
    "  which $run 2>/dev/null || echo \"#WAR: $run is a requirement below\"\n",
    "done\n",
    "# pip3 install matplotlib scipy mpl_toolkits\n",
    "for lib in numpy matplotlib scipy graphviz; do\n",
    "  python3 -c \"import $lib\" || echo \"#WAR: python library $lib needed\" && echo $lib OK\n",
    "done"
   ]
  },
  {
   "cell_type": "code",
   "execution_count": 11,
   "metadata": {
    "slideshow": {
     "slide_type": "slide"
    }
   },
   "outputs": [
    {
     "name": "stdout",
     "output_type": "stream",
     "text": [
      "/home/map/bin/module\n",
      "/usr/local/bin/ecflow_client\n"
     ]
    }
   ],
   "source": [
    "%%bash\n",
    "module load python3 2>/dev/null\n",
    "which module && module unload ecflow && module load ecflow/4.12.0 2>/dev/null \n",
    "which ecflow_client || echo \"Please provide the ecflow PATH\"\n",
    "export ECF_PORT=$((1500 + $(id -u)))\n",
    "ecflow_start.sh -p $ECF_PORT > /dev/null\n",
    "# ecflow_ui&  # would not run in background with Jupyter\n",
    "cd $HOME/ecflow_server && mkdir -p files include img"
   ]
  },
  {
   "cell_type": "code",
   "execution_count": 12,
   "metadata": {
    "slideshow": {
     "slide_type": "skip"
    }
   },
   "outputs": [
    {
     "data": {
      "text/plain": [
       "0"
      ]
     },
     "execution_count": 12,
     "metadata": {},
     "output_type": "execute_result"
    }
   ],
   "source": [
    "import os; os.system(\"ecflow_ui &\")"
   ]
  },
  {
   "cell_type": "code",
   "execution_count": 13,
   "metadata": {
    "slideshow": {
     "slide_type": "slide"
    }
   },
   "outputs": [
    {
     "name": "stdout",
     "output_type": "stream",
     "text": [
      "  % Total    % Received % Xferd  Average Speed   Time    Time     Time  Current\n",
      "                                 Dload  Upload   Total   Spent    Left  Speed\n",
      "100  213k  100  213k    0     0   610k      0 --:--:-- --:--:-- --:--:--  610k\n",
      "https://www.meteoalarm.eu/maps/EU-191010.gif\n",
      "  % Total    % Received % Xferd  Average Speed   Time    Time     Time  Current\n",
      "                                 Dload  Upload   Total   Spent    Left  Speed\n",
      "100 16873    0 16873    0     0  42824      0 --:--:-- --:--:-- --:--:-- 43043\n"
     ]
    }
   ],
   "source": [
    "#URL=http://www.met.reading.ac.uk/weatherdata/images/0.25WIND.png && curl $URL > img/rdg_wind.png\n",
    "! URL=http://www.met.reading.ac.uk/weatherdata/images/2SCNT.png && curl $URL > img/rdg_temp.png\n",
    "! URL=https://www.meteoalarm.eu/maps/EU-$(date +%y%m%d).gif && echo $URL && curl \"$URL\" > img/meteoalarm.gif\n",
    "# Minute Hour      Day of Month Month         Day of Week        Command    \n",
    "# (0-59) (0-23)    (1-31)      (1-12 Jan-Dec) (0-6 Sun-Sat)                \n",
    "#    1   0,6,12,18 *           *              *                  date"
   ]
  },
  {
   "cell_type": "markdown",
   "metadata": {
    "slideshow": {
     "slide_type": "subslide"
    }
   },
   "source": [
    "* Thanks [Reading University](img/rdg_temp.png)\n",
    "* Thanks [Meteo-Alarm](img/meteoalarm.gif)"
   ]
  },
  {
   "cell_type": "markdown",
   "metadata": {
    "slideshow": {
     "slide_type": "slide"
    }
   },
   "source": [
    "### Let's create header files: head.h tail.h"
   ]
  },
  {
   "cell_type": "code",
   "execution_count": 14,
   "metadata": {
    "slideshow": {
     "slide_type": "subslide"
    }
   },
   "outputs": [],
   "source": [
    "%%bash\n",
    "file=$HOME/ecflow_server/include/head.h\n",
    "if [[ ! -f $file ]]; then cat > $file <<@@\n",
    "#!%SHELL:/bin/bash%\n",
    "#set -e # stop the shell on first error\n",
    "#set -u # fail when using an undefined variable\n",
    "#set -x # echo script lines as they are executed\n",
    "# Defines the variables that are needed for any communication with ECF\n",
    "export ECF_PORT=%ECF_PORT%    # The server port number\n",
    "export ECF_HOST=%ECF_HOST%    # where the server is running\n",
    "export ECF_NAME=%ECF_NAME%    # The name of this current task\n",
    "export ECF_PASS=%ECF_PASS%    # A unique password\n",
    "export ECF_TRYNO=%ECF_TRYNO%  # Current try number of the task\n",
    "export ECF_RID=$$             # record the process id. Also used for\n",
    "                              # zombie detection\n",
    "# Define the path where to find ecflow_client\n",
    "# make sure client and server use the *same* version.\n",
    "# Important when there are multiple versions of ecFlow\n",
    "export PATH=/usr/local/apps/ecflow/%ECF_VERSION%/bin:$PATH\n",
    "export PATH=$PATH:/usr/local/apps/ecflow/bin:/usr/local/bin\n",
    "# Define a error handler\n",
    "ERROR() {\n",
    "   set +e                      # Clear -e flag, so we don't fail\n",
    "   wait                        # wait for background process to stop\n",
    "   ecflow_client --abort=trap  # Notify ecFlow that something went\n",
    "                               # wrong, using 'trap' as the reason\n",
    "   trap 0                      # Remove the trap\n",
    "   exit 0                      # End the script\n",
    "}\n",
    "trap ERROR 0\n",
    "# Tell ecFlow we have started\n",
    "ecflow_client --init=$$ ; set -eux\n",
    "@@\n",
    "fi"
   ]
  },
  {
   "cell_type": "code",
   "execution_count": 15,
   "metadata": {
    "slideshow": {
     "slide_type": "subslide"
    }
   },
   "outputs": [],
   "source": [
    "%%bash\n",
    "file=$HOME/ecflow_server/include/tail.h\n",
    "if [[ ! -f $file ]]; then\n",
    "cat > $file <<@@\n",
    "set +x\n",
    "wait           # wait for background process to stop\n",
    "ecflow_client --complete  # Notify ecFlow of a normal end\n",
    "trap 0                    # Remove all traps\n",
    "exit 0                    # End the shell\n",
    "@@\n",
    "fi"
   ]
  },
  {
   "cell_type": "markdown",
   "metadata": {
    "slideshow": {
     "slide_type": "slide"
    }
   },
   "source": [
    "### Let's create the suite, the script"
   ]
  },
  {
   "cell_type": "code",
   "execution_count": 16,
   "metadata": {
    "slideshow": {
     "slide_type": "subslide"
    }
   },
   "outputs": [],
   "source": [
    "import os, pwd, sys; v=\"2.7\"; v = \"3.6\"\n",
    "lib = \"/usr/local/apps/ecflow/current/lib/python%s/site-packages/ecflow\" % v\n",
    "lib = \"/usr/local/lib/python%s/site-packages/ecflow\" % v ; sys.path.append(lib)\n",
    "import ecf; from ecf import (Client, Defs, Suite, Family, Task, Edit, Trigger, Defstatus, Cron, Label)\n",
    "home = os.getenv(\"HOME\") + \"/ecflow_server\" ; user = os.getenv(\"USER\")\n",
    "node = Suite(\"obs\").add(  # SUITE DEFINITION\n",
    "    Defstatus(\"suspended\"),\n",
    "    Edit(ECF_HOME=home, ECF_INCLUDE=home + \"/include\", ECF_FILES=home + \"/files\",\n",
    "         ECF_EXTN=\".ecg\",  # current convention for generated task extension\n",
    "         ECF_JOB_CMD=\"%ECF_JOB% > %ECF_JOBOUT% 2>&1\", ),\n",
    "    Family(\"acq\").add(\n",
    "        Task(\"cmd\").add(\n",
    "            Cron(\"00:01 18:01 06:00\"),  # run four times a day\n",
    "            Edit(CMD=\"curl\",\n",
    "     ARGS=\"http://www.met.reading.ac.uk/weatherdata/images/0.25WIND.png\" +\n",
    "                 \"> rdg_wind.png\")), ))\n",
    "# CREATE SCRIPT TEMPLATE\n",
    "with open(home + \"/files/cmd.ecg\", 'w') as task_template:\n",
    "    print(\"\"\"#!%SHELL:/bin/bash%\n",
    "%include <head.h>\n",
    " %CMD:echo% %ARGS:OK%\n",
    "%include <tail.h>\"\"\", file=task_template)\n",
    "def get_username(): return pwd.getpwuid(os.getuid())[0]\n",
    "def get_uid(): return pwd.getpwnam(get_username()).pw_uid\n",
    "defs = ecf.Defs(); defs.add_suite(node) # DEFINITION FILE\n",
    "# CLIENT\n",
    "path = '/' + node.name()\n",
    "ECF_PORT = os.getenv(\"ECF_PORT\", 1500+int(pwd.getpwnam(get_username()).pw_uid))\n",
    "client = ecf.Client(\"localhost@%s\" % ECF_PORT)  # PYTHON CLIENT\n",
    "client.replace(path, defs)  # load/replace the top node (suite)\n",
    "client.begin_suite(node.name())  # BEGIN suite: UNKNOWN -> QUEUED\n",
    "client.resume(path) # RESUME suite: SUSPENDED -> create job and submit"
   ]
  },
  {
   "cell_type": "markdown",
   "metadata": {
    "slideshow": {
     "slide_type": "subslide"
    }
   },
   "source": [
    "![ecflow_ui](img/get.png)"
   ]
  },
  {
   "cell_type": "markdown",
   "metadata": {
    "slideshow": {
     "slide_type": "slide"
    }
   },
   "source": [
    "## Add a cron task for ecFlow server daily log renewal"
   ]
  },
  {
   "cell_type": "code",
   "execution_count": 17,
   "metadata": {
    "slideshow": {
     "slide_type": "subslide"
    }
   },
   "outputs": [],
   "source": [
    "node = Suite(\"adm\").add(  # SUITE DEFINITION\n",
    "    Defstatus(\"suspended\"),\n",
    "    Edit(ECF_HOME=home, ECF_INCLUDE=home + \"/include\", ECF_FILES=home + \"/files\",\n",
    "         ECF_EXTN=\".ecg\",  # current convention for generated task template extension\n",
    "         ECF_OUT=\"%ECF_HOME%\", ECF_JOB_CMD=\"%ECF_JOB% > %ECF_JOBOUT% 2>&1\", ),\n",
    "    Family(\"daily\").add(\n",
    "        Task(\"cmd\").add(\n",
    "            Cron(\"06:00\"),\n",
    "            Edit(CMD=\"ecflow_client\",\n",
    "                 ARGS=\"--log=new\")), ))\n",
    "\n",
    "with open(home + \"/files/cmd.ecg\", 'w') as task_template:\n",
    "    print(\"\"\"#!%SHELL:/bin/bash%\n",
    "%include <head.h>\n",
    " %CMD% %ARGS%\n",
    "%include <tail.h>\"\"\", file=task_template)\n",
    "    \n",
    "defs = ecf.Defs()\n",
    "defs.add_suite(node)\n",
    "\n",
    "path = '/' + node.name()\n",
    "client.replace(path, defs)  # load/replace the top node (suite)\n",
    "client.begin_suite(node.name())  # BEGIN suite: UNKNOWN -> QUEUED\n",
    "client.resume(path) # RESUME suite: SUSPENDED -> create job and submit"
   ]
  },
  {
   "cell_type": "markdown",
   "metadata": {
    "slideshow": {
     "slide_type": "subslide"
    }
   },
   "source": [
    "Once the suite is played and running into the server, it can be updated with additional tasks, iteratively. "
   ]
  },
  {
   "cell_type": "code",
   "execution_count": 18,
   "metadata": {
    "slideshow": {
     "slide_type": "subslide"
    }
   },
   "outputs": [],
   "source": [
    "# INCREMENTAL SUITE DEFINITION: sometimes there is no choice and we cannot \n",
    "# have one script for the complete suite definition\n",
    "node = Suite(\"adm\").add(  # INCREMENTAL SUITE DEFINITION\n",
    "    Family(\"user\").add(\n",
    "        Task(\"admin\").add(\n",
    "            Defstatus(\"complete\"),\n",
    "            Label(\"info\", \"\"),\n",
    "            Edit(CMDS=\"all\"), )))\n",
    "\n",
    "# task template script\n",
    "with open(home + \"/files/admin.ecg\", 'w') as task_template:\n",
    "    print(\"\"\"#!%SHELL:/bin/bash%\n",
    "%include <head.h>\n",
    "for CMD in %CMDS:plot list freeze list%; do\n",
    "case $CMD in\n",
    "freeze | all)\n",
    "  LOG=%ECF_LOG%.$(date +%%Y%%m%%d-%%H%%M); mv %ECF_LOG% $LOG \n",
    "  ecflow_client --log=new;\n",
    "  gzip -f $LOG || :\n",
    "  ecflow_client --label info \"$LOG\"\n",
    "  \n",
    ";; list | all)\n",
    "  list=\"$(ecflow_client --ch_suites)\" # list registered connections\n",
    "  ecflow_client --label info \"$list\"\n",
    "  \n",
    ";; drop | all) \n",
    "  handles=\"$(ecflow_client --ch_suites | cut -c7-18 | grep -v handle || :)\"\n",
    "  for handle in $handles; do \n",
    "    ecflow_client --ch_drop $handle || :\n",
    "  done\n",
    "  ecflow_client --label info \"dropped\"\n",
    "\n",
    ";; plot ) # plot: run as an alias setting CMD=plot\n",
    "  ecflow_client --server_load %ECF_LOG% || true\n",
    "  pwd &&   xdg-open $(ls -1tr *png | tail -1)\n",
    "\n",
    ";; *) echo \"what?\"; exit 1\n",
    "\n",
    ";; esac\n",
    "done\n",
    "%include <tail.h>\"\"\", file=task_template)\n",
    "    \n",
    "# DEFINITION\n",
    "defs = ecf.Defs()\n",
    "defs.add_suite(node)\n",
    "\n",
    "# CLIENT\n",
    "path = '/adm/user/admin'\n",
    "client.replace(path, defs)  # load/replace the top node (suite)\n",
    "client.resume(path) # RESUME suite: SUSPENDED -> create job and submit"
   ]
  },
  {
   "cell_type": "markdown",
   "metadata": {
    "slideshow": {
     "slide_type": "slide"
    }
   },
   "source": [
    "## Turning a python script into a task\n",
    "* p51, migrating a python script\n",
    "![img](img/course58.png)"
   ]
  },
  {
   "cell_type": "markdown",
   "metadata": {
    "slideshow": {
     "slide_type": "slide"
    }
   },
   "source": [
    "### The Lorenz system\n",
    "Thank to [Wikipedia](https://en.wikipedia.org/wiki/Lorenz_system) the Lorenz is available as a python script. It can run standalone or into a suite, with [numpy](http://www.numpy.org/) and [matplotlib](https://matplotlib.org/) are installed."
   ]
  },
  {
   "cell_type": "code",
   "execution_count": 19,
   "metadata": {
    "slideshow": {
     "slide_type": "subslide"
    }
   },
   "outputs": [
    {
     "data": {
      "image/png": "[encoded data removed]",
      "text/plain": [
       "<Figure size 432x288 with 1 Axes>"
      ]
     },
     "metadata": {
      "needs_background": "light"
     },
     "output_type": "display_data"
    }
   ],
   "source": [
    "%matplotlib inline\n",
    "script = \"\"\"# Thanks https://en.wikipedia.org/wiki/Lorenz_system\n",
    "import numpy as np\n",
    "import matplotlib.pyplot as plt\n",
    "from scipy.integrate import odeint\n",
    "from mpl_toolkits.mplot3d import Axes3D\n",
    "\n",
    "rho = 28.0\n",
    "sigma = 10.0\n",
    "beta = 8.0 / 3.0\n",
    "\n",
    "def f(state,\n",
    "t):\n",
    "  x, y, z = state  # unpack the state vector\n",
    "  return sigma * (y - x), x * (rho - z) - y, x * y - beta * z  # derivatives\n",
    "\n",
    "state0 = [1.0, 1.0, 1.0]\n",
    "t = np.arange(0.0, 40.0, 0.01)\n",
    "\n",
    "states = odeint(f, state0, t)\n",
    "\n",
    "fig = plt.figure()\n",
    "ax = fig.gca(projection='3d')\n",
    "ax.plot(states[:,0], states[:,1], states[:,2])\n",
    "plt.show()\"\"\"\n",
    "exec(script)"
   ]
  },
  {
   "cell_type": "markdown",
   "metadata": {
    "slideshow": {
     "slide_type": "slide"
    }
   },
   "source": [
    "### Let's use this python script into a suite"
   ]
  },
  {
   "cell_type": "code",
   "execution_count": 22,
   "metadata": {
    "slideshow": {
     "slide_type": "subslide"
    }
   },
   "outputs": [],
   "source": [
    "import os, sys\n",
    "lib = \"/usr/local/lib/python3.6/site-packages/ecflow\"; sys.path.append(lib)\n",
    "import ecf\n",
    "from ecf import (Client, Defs, Suite, Family, Task, Defstatus, Label, Edit)\n",
    "home = os.getenv(\"HOME\") + \"/ecflow_server\"\n",
    "user = os.getenv(\"USER\")\n",
    "node = Suite(\"lorenz\").add(  # SUITE DEFINITION\n",
    "    Defstatus(\"suspended\"),\n",
    "    Edit(ECF_HOME=home, ECF_INCLUDE=home + \"/include\", ECF_FILES=home+\"/files\",\n",
    "         ECF_OUT=home, \n",
    "# official submit on ecgate\n",
    "#ECF_JOB_CMD=\"trimurti %USER% %SCHOST% %ECF_JOB% %ECF_JOBOUT%\",\n",
    "ECF_JOB_CMD=\"%ECF_JOB% > %ECF_JOBOUT% 2>&1\",  # localhost run\n",
    "# simple ssh submit:\n",
    "# HOST=\"%ECF_NODE%\", ECF_JOB_CMD=\"ssh %HOST% '%ECF_JOB% > %ECF_JOBOUT% 2>&1'\",\n",
    "         ECF_EXTN=\".ecf\", USER=user, SCHOST=\"localhost\", ),\n",
    "    Family(\"ecf\").add(\n",
    "        Edit(ECF_EXTN=\".ecg\"),\n",
    "        Task(\"compute\").add(), ))\n",
    "with open(home + \"/files/compute.ecg\", 'w') as task_template:\n",
    "    print(\"\"\"#!%SHELL:/bin/bash%\n",
    "%include <head.h>\n",
    "python3 <<\\@@@\n",
    "\"\"\" + script + \"\"\"\n",
    "@@@\n",
    "%include <tail.h>\n",
    "\"\"\", file=task_template)\n",
    "defs = Defs(); defs.add_suite(node)\n",
    "path = '/' + node.name()\n",
    "client = Client(\"localhost@%s\" % os.getenv(\"ECF_PORT\", 2500))  # PYTHON CLIENT\n",
    "client.replace(path, defs)  # load/replace the top node (suite)\n",
    "client.begin_suite(node.name())  # BEGIN suite: UNKNOWN -> QUEUED\n",
    "client.resume(path)  # RESUME suite: SUSPENDED -> create job and submit"
   ]
  },
  {
   "cell_type": "markdown",
   "metadata": {
    "slideshow": {
     "slide_type": "subslide"
    }
   },
   "source": [
    "* Check the suite is present into the server, with **ecflow_ui**.\n",
    "* Check panel Script, Edit (+preprocess +submit as alias)\n",
    "<!-- ![sublime](img/sublime.png) -->\n",
    "![lorenz](img/lorenz.png)"
   ]
  },
  {
   "cell_type": "code",
   "execution_count": 23,
   "metadata": {
    "slideshow": {
     "slide_type": "subslide"
    }
   },
   "outputs": [],
   "source": [
    "dot = node.draw_graph()  # soon DRAW static graph... provided dot Graphiz is available"
   ]
  },
  {
   "cell_type": "markdown",
   "metadata": {
    "slideshow": {
     "slide_type": "subslide"
    }
   },
   "source": [
    "This script can be altered to display different attactors, changing the starting point:\n",
    "* we change the original script to allow the presence of the ecflow variable XYZ, with a default value, to start from 1,1,1\n",
    "* we add a new family, and few tasks, to run in parallel. We use different values for the variable XYZ.\n",
    "\n",
    "A [list comprehension](https://en.wikipedia.org/wiki/List_comprehension) keeps verbosity low."
   ]
  },
  {
   "cell_type": "code",
   "execution_count": 24,
   "metadata": {
    "slideshow": {
     "slide_type": "subslide"
    }
   },
   "outputs": [],
   "source": [
    "with open(home + \"/files/compute.ecg\", 'w') as fip:\n",
    "    fip.write(\"\"\"#!/bin/bash\n",
    "%include <head.h>\n",
    "python <<@@\n",
    "\"\"\" + script.replace(\"[1.0, 1.0, 1.0]\",\n",
    "                     \"%XYZ:[1.0, 1.0, 1.0]%\") + \"\"\"\n",
    "@@\n",
    "%include <tail.h>\n",
    "\"\"\")"
   ]
  },
  {
   "cell_type": "code",
   "execution_count": 25,
   "metadata": {
    "slideshow": {
     "slide_type": "subslide"
    }
   },
   "outputs": [],
   "source": [
    "client.suspend('/' + node.name())\n",
    "node.add(       \n",
    "    Family(\"multi\").add(  # once imported, alter script, run multiple tasks\n",
    "           [Family(\"%02d\" % num).add(\n",
    "              Edit(XYZ=\"[%d.0, %d.0, %d.0]\" % (num, num, num)),\n",
    "              Task(\"compute\"))\n",
    "            for num in range(0, 5)]))\n",
    "client.replace(\"/lorenz/multi\", defs)"
   ]
  },
  {
   "cell_type": "markdown",
   "metadata": {
    "slideshow": {
     "slide_type": "subslide"
    }
   },
   "source": [
    "You can then press resume to get the tasks running in parallel and display the plots.\n",
    "\n",
    "![multi](img/lorenz-ens.png)"
   ]
  },
  {
   "cell_type": "markdown",
   "metadata": {
    "slideshow": {
     "slide_type": "slide"
    }
   },
   "source": [
    "# More complex Suite\n",
    "\n",
    "An operational suite is built from families, essentially:\n",
    "\n",
    "* make: retrieve sources, compile\n",
    "* main: real-time processing\n",
    "* arch: prodicts generation, postprocess, archive, ploting\n",
    "\n",
    "![img](img/course59.png)"
   ]
  },
  {
   "cell_type": "markdown",
   "metadata": {
    "slideshow": {
     "slide_type": "subslide"
    }
   },
   "source": [
    "## [ENIAC](https://maths.ucd.ie/~plynch/eniac)\n",
    "\n",
    "This is a not so simple suite example from a project thanks to [Prof. Peter Lynch](https://maths.ucd.ie/~plynch/UCD_Home_Page.html)\n",
    "\n",
    "### Environment setup\n",
    "* Family *make* retrieves the code from the web.\n",
    "\n",
    "### Forecast run\n",
    "* Family main retrieves analyses and run the model with postprocessing.\n",
    "\n",
    "![running](img/eniac.png)"
   ]
  },
  {
   "cell_type": "code",
   "execution_count": 26,
   "metadata": {
    "slideshow": {
     "slide_type": "subslide"
    }
   },
   "outputs": [
    {
     "data": {
      "text/plain": [
       "0"
      ]
     },
     "execution_count": 26,
     "metadata": {},
     "output_type": "execute_result"
    }
   ],
   "source": [
    "import os; files = os.getenv(\"HOME\") + \"/eniac\"\n",
    "import ecf; from ecf import Repeat, Trigger\n",
    "if not os.path.exists(files): os.makedirs(files)\n",
    "node = Suite(\"eniac\").add(  # SUITE DEFINITION\n",
    "    Defstatus(\"suspended\"),\n",
    "    Edit(ECF_HOME=home, ECF_INCLUDE=home + \"/include\", ECF_FILES=files,\n",
    "         ECF_EXTN=\".ecg\", \n",
    "         WDIR=\"/tmp\",\n",
    "         URL=\"https://maths.ucd.ie/~plynch/eniac/\",\n",
    "         SRC=\"\",\n",
    "         ECF_JOB_CMD=\"%ECF_JOB% > %ECF_JOBOUT% 2>&1\",\n",
    "         INC=\"%WDIR%\", ),\n",
    "    Family(\"make\").add(\n",
    "            Label(\"info\", \"get sources\"),\n",
    "            Task(\"get\").add(\n",
    "                Edit(# INC=\"%ECF_INCLUDE%\",\n",
    "                     SRC=\"eniac.m GetICs.m\", )), ),\n",
    "    Family(\"main\").add(\n",
    "        Trigger(\"make eq complete\"),\n",
    "        Repeat(\"YM\", 194901, 194901, 1, \"integer\"),\n",
    "        Family(\"an\").add(\n",
    "            Label(\"info\", \"get analysis\"),\n",
    "            Edit(SRC=\"Case1-%YM%0503.z00  Case2-%YM%3003.z00  Case3-%YM%3103.z00  Case4-1949021303.z00 Case1-%YM%0603.z00  Case2-%YM%3103.z00  Case3-1949020103.z00  Case4-1949021403.z00\",),\n",
    "            Task(\"get\")),\n",
    "        Family(\"fc\").add(Trigger(\"an eq complete\"),\n",
    "                         Edit(MFILE=\"eniac\"),\n",
    "                         Task(\"octave\")),\n",
    "        Family(\"postproc\").add(\n",
    "            Trigger(\"fc eq complete\"),\n",
    "            Edit(MFILE=\"GetICs\"),\n",
    "            Task(\"get\").add(\n",
    "                 Edit(SRC=\"%YM%0503.asc %YM%0603.asc %YM%3003.asc %YM%3103.asc 1949020103.asc 1949021303.asc 1949021403.asc\",),),\n",
    "            Task(\"octave\").add(Trigger(\"get eq complete\")))))\n",
    "defs = ecf.Defs(); defs.add_suite(node) # DEFINITION\n",
    "path = '/' + node.name() # CLIENT:\n",
    "client = Client(\"localhost@%s\" % os.getenv(\"ECF_PORT\", 2500))  # PYTHON CLIENT\n",
    "client.replace(path, defs)  # load/replace the top node (suite)\n",
    "client.begin_suite(node.name())  # BEGIN suite: UNKNOWN -> QUEUED\n",
    "# client.resume(path) # RESUME suite: SUSPENDED -> create job and submit"
   ]
  },
  {
   "cell_type": "code",
   "execution_count": 27,
   "metadata": {
    "slideshow": {
     "slide_type": "subslide"
    }
   },
   "outputs": [],
   "source": [
    "with open(files + \"/get.ecg\", 'w') as template:\n",
    "    print(\"\"\"#!/bin/bash\n",
    "%include <head.h> \n",
    "cd %WDIR:/tmp%\n",
    "for file in %SRC%; do curl %URL%/$file > %INC%/$file; done\n",
    "pwd; ls\n",
    "%include <tail.h>\"\"\", file=template)\n",
    "    \n",
    "with open(files + \"/octave.ecg\", 'w') as template:\n",
    "    print(\"\"\"#!/bin/bash\n",
    "%include <head.h> \n",
    "cd %WDIR:/tmp%\n",
    "pwd && ls  \n",
    "set +e # ignore errors: error:   /tmp/GetICs.m at line 199, column 1\n",
    "octave <<\\@@\n",
    "# includenopp <%MFILE:eniac.m%>\n",
    " %MFILE:eniac%\n",
    "@@\n",
    "set -e\n",
    "%include <tail.h>\"\"\", file=template)"
   ]
  },
  {
   "cell_type": "code",
   "execution_count": 28,
   "metadata": {
    "slideshow": {
     "slide_type": "skip"
    }
   },
   "outputs": [],
   "source": [
    "%%bash\n",
    "# which docker && docker pull eowyn/alpine-ecflow > /dev/null || echo \"ERR: docker not found?\\\"\\n\",\n",
    "remote=\"https://raw.githubusercontent.com/morianemo/alpine-ecflow/master/Dockerfile\"\n",
    "# [ ! -f Dockerfile ] && curl $remote > Dockerfile\n",
    "# [ ! -f cmake-3.13.2.tar.gz ] && wget https://github.com/Kitware/CMake/releases/download/v3.13.2/cmake-3.13.2.tar.gz\n",
    "#  build -t ecflow-alp . > /dev/null\n",
    "# docker run -t --net=host ecflow ecflow_client-alp --ping"
   ]
  },
  {
   "cell_type": "code",
   "execution_count": 35,
   "metadata": {
    "slideshow": {
     "slide_type": "skip"
    }
   },
   "outputs": [
    {
     "name": "stdout",
     "output_type": "stream",
     "text": [
      "ping server(localhost:2500) succeeded in 00:00:00.000695  ~0 milliseconds\n"
     ]
    }
   ],
   "source": [
    "%%bash\n",
    "# docker run -t --net=host ecflow-alp ecflow_client --port 2500 --ping\n",
    "docker run -t --net=host alpine-ecflow ecflow_client --port 2500 --ping"
   ]
  },
  {
   "cell_type": "markdown",
   "metadata": {
    "slideshow": {
     "slide_type": "slide"
    }
   },
   "source": [
    "# Questions?"
   ]
  },
  {
   "cell_type": "markdown",
   "metadata": {
    "slideshow": {
     "slide_type": "notes"
    }
   },
   "source": []
  }
 ],
 "metadata": {
  "celltoolbar": "Diaporama",
  "kernelspec": {
   "display_name": "Python 3",
   "language": "python",
   "name": "python3"
  },
  "language_info": {
   "codemirror_mode": {
    "name": "ipython",
    "version": 3
   },
   "file_extension": ".py",
   "mimetype": "text/x-python",
   "name": "python",
   "nbconvert_exporter": "python",
   "pygments_lexer": "ipython3",
   "version": "3.6.7"
  }
 },
 "nbformat": 4,
 "nbformat_minor": 2
}
