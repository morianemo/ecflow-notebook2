{
 "cells": [
  {
   "cell_type": "markdown",
   "metadata": {},
   "source": [
    "# NEMO\n",
    "\n",
    "* https://www.nemo-ocean.eu/\n",
    "* [forge](http://forge.ipsl.jussieu.fr/nemo/wiki/Users)"
   ]
  },
  {
   "cell_type": "code",
   "execution_count": 5,
   "metadata": {},
   "outputs": [],
   "source": [
    "NEMO=\"svn co http://forge.ipsl.jussieu.fr/nemo/svn/NEMO/releases/release-3.6/NEMOGCM\"\n",
    "XIOS=\"svn co -r819 http://forge.ipsl.jussieu.fr/ioserver/svn/XIOS/trunk xios-2.0\"\n",
    "XIOS_MAKE=\"cd xios-2.0 && ./make_xios --job 8 --arch XC40_Cray\""
   ]
  },
  {
   "cell_type": "code",
   "execution_count": 1,
   "metadata": {},
   "outputs": [],
   "source": [
    "%%bash\n",
    "XIOS=\"svn co -r819 http://forge.ipsl.jussieu.fr/ioserver/svn/XIOS/trunk xios-2.0\"\n",
    "[ ! -d xios-2.0 ] && $XIOS\n",
    "cd xios-2.0 \n",
    "# ./make_xios --avail\n",
    "# arch=GCC_LINUX ./make_xios \n",
    "# ./make_xios --job 8 --arch XC40_Cray\n"
   ]
  },
  {
   "cell_type": "code",
   "execution_count": 7,
   "metadata": {},
   "outputs": [],
   "source": [
    "######################\n",
    "# from __future__ import print_function\n",
    "import os, sys;\n",
    "lib = \"/usr/local/apps/ecflow/current/lib/python2.7/site-packages/ecflow\"\n",
    "lib = \"/usr/local/apps/ecflow/current/lib/python3.5/site-packages/ecflow\"\n",
    "lib = \"/usr/local/lib/python3.5/site-packages/ecflow\"\n",
    "sys.path.append(lib)\n",
    "import ecf; from ecf import (Client, Defs, Suite, Family, Task, Defstatus, Edit, Trigger)\n",
    "try: x = Edit(test=\"value\")  # Edit is present in recent ecf.py module\n",
    "except:\n",
    "    class Edit(Variables): pass\n",
    "home = os.getenv(\"HOME\") + \"/ecflow_server\"\n",
    "user = os.getenv(\"USER\")\n",
    "\n",
    "# USERNAME and PASS variables are stored in a rc file under HOME directory\n",
    "# vim ~/.nemorc; chmod 700 ~/.nemorc # hide access to password\n",
    "CMD = \"svn co http://forge.ipsl.jussieu.fr/nemo/svn/NEMO/releases/release-3.6/NEMOGCM\"\n",
    "# CMD is here a PYTHON VARIABLE\n",
    "MAKE = \"   cd NEMOGCM/CONFIG; ./makenemo –m 'my_arch' –r GYRE -n 'MY_GYRE'\"\n",
    "# SUITE\n",
    "node = Suite(\"NEMO\").add(\n",
    "    Defstatus(\"suspended\"),\n",
    "    Edit(ECF_HOME=home, ECF_INCLUDE=home + \"/include\", ECF_FILES=home + \"/files\",\n",
    "         ECF_EXTN=\".ecg\",  # current convention for generated task template extension\n",
    "         ECF_JOB_CMD=\"%ECF_JOB% > %ECF_JOBOUT% 2>&1\",  # localhost run\n",
    "         ECF_URL_CMD=\"firefox %URL%\",  # web in ecflow GUI can call the web-browser on the right page\n",
    "         URL=\"https://www.nemo-ocean.eu/\", ),\n",
    "    Family(\"make\").add(\n",
    "        Family(\"get\").add(Task(\"cmd\").add(\n",
    "            Edit(CMD=CMD,  # PYTHON VARIABLE IS TURNED INTO ECFLOW VARIABLE\n",
    "                 ARGS=\"\")), ),\n",
    "        Family(\"compile\").add(\n",
    "            Trigger([\"get\"]),\n",
    "            Task(\"cmd\").add(\n",
    "                Edit(CMD=MAKE)), #\"cd script_install && chmod +x install*sh && ./install_lmdz.sh\")), \n",
    "        ), ),\n",
    "    Family(\"main\").add(Task(\"cmd\").add(Edit(CMD=\"echo\", ARGS=\"YOUR PART\"))))\n",
    "\n",
    "# TASK TEMPLATE\n",
    "with open(home + \"/files/cmd.ecg\", 'w') as task_template: print(\"\"\"#!/bin/bash\n",
    "%include <head.h>\n",
    " %CMD:echo% %ARGS:%  # THE TASK TEMPLATE USES THE SUITE VARIABLE \n",
    "%include <tail.h>\"\"\", file=task_template)\n",
    "\n",
    "# DEFS\n",
    "defs = Defs()\n",
    "defs.add_suite(node)\n",
    "path = '/' + node.name()\n",
    "\n",
    "# CLIENT\n",
    "client = Client(\"localhost@%s\" % os.getenv(\"ECF_PORT\", 2500))  # PYTHON CLIENT\n",
    "client.replace(path, defs)  # load/replace the top node (suite)\n",
    "client.begin_suite(node.name())  # BEGIN suite: UNKNOWN -> QUEUED\n",
    "client.resume(path) # RESUME suite: SUSPENDED -> create job and submit"
   ]
  },
  {
   "cell_type": "code",
   "execution_count": 3,
   "metadata": {},
   "outputs": [
    {
     "data": {
      "text/plain": [
       "0"
      ]
     },
     "execution_count": 3,
     "metadata": {},
     "output_type": "execute_result"
    }
   ],
   "source": [
    "os.system(\"ecflow_ui &\")"
   ]
  },
  {
   "cell_type": "code",
   "execution_count": null,
   "metadata": {},
   "outputs": [],
   "source": []
  }
 ],
 "metadata": {
  "kernelspec": {
   "display_name": "Python 3",
   "language": "python",
   "name": "python3"
  },
  "language_info": {
   "codemirror_mode": {
    "name": "ipython",
    "version": 3
   },
   "file_extension": ".py",
   "mimetype": "text/x-python",
   "name": "python",
   "nbconvert_exporter": "python",
   "pygments_lexer": "ipython3",
   "version": "3.6.7"
  }
 },
 "nbformat": 4,
 "nbformat_minor": 2
}
