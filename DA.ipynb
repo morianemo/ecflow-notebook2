{
 "cells": [
  {
   "cell_type": "markdown",
   "metadata": {},
   "source": [
    "# DAPPER\n",
    "\n",
    "Thanks to the [team](https://www.nersc.no/about)\n",
    "* A starting point point for Data Assimilation https://www.nersc.no/group/data-assimilation"
   ]
  },
  {
   "cell_type": "code",
   "execution_count": 16,
   "metadata": {},
   "outputs": [],
   "source": [
    "%%bash\n",
    "ECF_PORT=2500 ecflow_start.sh -p 2500 >/dev/null"
   ]
  },
  {
   "cell_type": "code",
   "execution_count": 17,
   "metadata": {},
   "outputs": [],
   "source": [
    "######################\n",
    "# from __future__ import print_function\n",
    "import os, sys\n",
    "# lib = \"/usr/local/apps/ecflow/current/lib/python2.7/site-packages/ecflow\"\n",
    "# lib = \"/usr/local/apps/ecflow/current/lib/python3.5/site-packages/ecflow\"\n",
    "lib = \"/usr/local/lib/python3.5/site-packages/ecflow\"\n",
    "sys.path.append(lib)\n",
    "import ecf; from ecf import (Client, Defs, Suite, Family, Task, Defstatus, Edit, Label, Trigger)\n",
    "try: x = Edit(test=\"value\")  # Edit is present in recent ecf.py module\n",
    "except:\n",
    "    class Edit(Variables): pass\n",
    "home = os.getenv(\"HOME\") + \"/ecflow_server\"\n",
    "user = os.getenv(\"USER\")\n",
    "\n",
    "# SUITE\n",
    "node = Suite(\"DA\").add(\n",
    "    Defstatus(\"suspended\"),\n",
    "    Edit(ECF_HOME=home, ECF_INCLUDE=home + \"/include\", ECF_FILES=home + \"/files\",\n",
    "         ECF_EXTN=\".ecg\",  # current convention for generated task template extension\n",
    "         ECF_JOB_CMD=\"%ECF_JOB% > %ECF_JOBOUT% 2>&1\",  # localhost run\n",
    "         ECF_URL_CMD=\"firefox %URL%\",\n",
    "         URL=\"https://www.nersc.no/group/data-assimilation\", ),\n",
    "    Family(\"make\").add(\n",
    "        Family(\"get\").add(Task(\"cmd\").add(\n",
    "            Edit(CMD=\"[ ! -d DAPPER ] && \" +\n",
    "                 \"git clone https://github.com/nansencenter/DAPPER.git\",\n",
    "                 ARGS=\"\"))),\n",
    "        Family(\"compile\").add(\n",
    "            Trigger([\"get\"]),\n",
    "            Task(\"cmd\").add(\n",
    "                Edit(CMD=\"cd DAPPER; xterm -T 'python3 example_1.py'\")), ), ),\n",
    "    Family(\"main\").add(Task(\"cmd\").add(\n",
    "        Label(\"info\", \"\"),\n",
    "        Edit(CMD=\"ecflow_client --label info\", ARGS=\"YOUR PART\"), ), ))\n",
    "# print(node)\n",
    "\n",
    "# TASK TEMPLATE\n",
    "fname = home + \"/files/cmd.ecg\"\n",
    "if not os.path.isfile(fname):\n",
    "    with open(fname, 'w') as task_template: print(\"\"\"#!/bin/bash\n",
    "%include <head.h>\n",
    " %CMD:echo% %ARGS:%\n",
    "%include <tail.h>\"\"\", file=task_template)\n",
    "\n",
    "# DEFS\n",
    "defs = Defs()\n",
    "defs.add_suite(node)\n",
    "path = '/' + node.name()\n",
    "# print(defs)\n",
    "\n",
    "# CLIENT\n",
    "client = Client(\"localhost@%s\" % os.getenv(\"ECF_PORT\", 2500))  # PYTHON CLIENT\n",
    "if node.name() not in client.suites():\n",
    "  client.load(defs)  # load/replace the top node (suite)\n",
    "  client.begin_suite(node.name())  # BEGIN suite: UNKNOWN -> QUEUED\n",
    "else: client.replace(path, defs);  # print(\"# REPLACE \" + path, client)  # load/replace the top node (suite)\n",
    "# client.resume(path)  # RESUME suite: SUSPENDED -> create job and submit"
   ]
  },
  {
   "cell_type": "code",
   "execution_count": 18,
   "metadata": {},
   "outputs": [
    {
     "data": {
      "text/plain": [
       "0"
      ]
     },
     "execution_count": 18,
     "metadata": {},
     "output_type": "execute_result"
    }
   ],
   "source": [
    "import os\n",
    "os.system(\"ecflow_ui &\")"
   ]
  },
  {
   "cell_type": "code",
   "execution_count": null,
   "metadata": {},
   "outputs": [],
   "source": []
  }
 ],
 "metadata": {
  "kernelspec": {
   "display_name": "Python 3",
   "language": "python",
   "name": "python3"
  },
  "language_info": {
   "codemirror_mode": {
    "name": "ipython",
    "version": 3
   },
   "file_extension": ".py",
   "mimetype": "text/x-python",
   "name": "python",
   "nbconvert_exporter": "python",
   "pygments_lexer": "ipython3",
   "version": "3.6.7"
  }
 },
 "nbformat": 4,
 "nbformat_minor": 2
}
