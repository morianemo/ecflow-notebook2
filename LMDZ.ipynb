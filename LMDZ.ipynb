{
 "cells": [
  {
   "cell_type": "markdown",
   "metadata": {},
   "source": [
    "# LMDZ GCM\n",
    "[LMDZ](http://lmdz.lmd.jussieu.fr/le-projet-lmdz/formation/2017)\n",
    "[mars?](http://www-mars.lmd.jussieu.fr/)\n",
    "## Download, compile"
   ]
  },
  {
   "cell_type": "code",
   "execution_count": 1,
   "metadata": {},
   "outputs": [
    {
     "name": "stdout",
     "output_type": "stream",
     "text": [
      "/usr/bin/svn\n",
      "/usr/bin/svn\n",
      "svn co http://svn.lmd.jussieu.fr/LMDZ/BOL/script_install && cd script_install && chmod +x install*.sh && ./install*.sh\n"
     ]
    }
   ],
   "source": [
    "%%bash\n",
    "run=svn && which $run || sudo apt-get install subversion || true\n",
    "which $run || echo \"Please install svn...\"\n",
    "INST=\"svn co http://svn.lmd.jussieu.fr/LMDZ/BOL/script_install && cd script_install && chmod +x install*.sh && ./install*.sh\"\n",
    "echo $INST"
   ]
  },
  {
   "cell_type": "code",
   "execution_count": 3,
   "metadata": {},
   "outputs": [],
   "source": [
    "######################\n",
    "from __future__ import print_function\n",
    "import os, pwd, sys; \n",
    "lib = \"/usr/local/apps/ecflow/current/lib/python2.7/site-packages/ecflow\"\n",
    "lib = \"/usr/local/apps/ecflow/current/lib/python3.5/site-packages/ecflow\"\n",
    "lib = \"/usr/local/lib/python3.5/site-packages/ecflow\"\n",
    "sys.path.append(lib)\n",
    "import ecf; from ecf import (Client, Defs, Suite, Family, Task, Defstatus, Edit, Trigger)\n",
    "try: x = Edit(test=\"value\")  # Edit is present in recent ecf.py module\n",
    "except:\n",
    "    class Edit(Variables): pass\n",
    "home = os.getenv(\"HOME\") + \"/ecflow_server\"\n",
    "user = os.getenv(\"USER\")\n",
    "\n",
    "# SUITE\n",
    "node = Suite(\"lmdz\").add(\n",
    "    Defstatus(\"suspended\"),\n",
    "    Edit(ECF_HOME=home, ECF_INCLUDE=home + \"/include\", ECF_FILES=home + \"/files\",\n",
    "         ECF_EXTN=\".ecg\",  # current convention for generated task template extension\n",
    "         ECF_JOB_CMD=\"%ECF_JOB% > %ECF_JOBOUT% 2>&1\",  # localhost run\n",
    "         ECF_URL_CMD=\"firefox %URL%\",\n",
    "         URL=\"http://lmdz.lmd.jussieu.fr/\", ),\n",
    "    Family(\"make\").add(\n",
    "        Family(\"get\").add(Task(\"cmd\").add(\n",
    "            Edit(CMD=\"svn co http://svn.lmd.jussieu.fr/LMDZ/BOL/script_install\",\n",
    "                 ARGS=\"\")), ),\n",
    "        Family(\"compile\").add(\n",
    "            Trigger([\"get\"]),\n",
    "            Task(\"cmd\").add(\n",
    "                Edit(CMD=\"cd script_install && chmod +x install*sh && ./install_lmdz.sh\")), ), ),\n",
    "    Family(\"main\").add(Task(\"cmd\").add(Edit(CMD=\"echo\", ARGS=\"YOUR PART\"))))\n",
    "\n",
    "# TASK TEMPLATE\n",
    "with open(home + \"/files/cmd.ecg\", 'w') as task_template: print(\"\"\"#!/bin/bash\n",
    "%include <head.h>\n",
    " %CMD:echo% %ARGS:%\n",
    "%include <tail.h>\"\"\", file=task_template)\n",
    "\n",
    "# DEFS\n",
    "defs = Defs()\n",
    "defs.add_suite(node)\n",
    "path = '/' + node.name()\n",
    "\n",
    "# CLIENT\n",
    "client = Client(\"localhost@%s\" % os.getenv(\"ECF_PORT\", 2500))  # PYTHON CLIENT\n",
    "client.replace(path, defs)  # load/replace the top node (suite)\n",
    "client.begin_suite(node.name())  # BEGIN suite: UNKNOWN -> QUEUED\n",
    "client.resume(path) # RESUME suite: SUSPENDED -> create job and submit"
   ]
  },
  {
   "cell_type": "code",
   "execution_count": null,
   "metadata": {},
   "outputs": [],
   "source": []
  }
 ],
 "metadata": {
  "kernelspec": {
   "display_name": "Python 3",
   "language": "python",
   "name": "python3"
  },
  "language_info": {
   "codemirror_mode": {
    "name": "ipython",
    "version": 3
   },
   "file_extension": ".py",
   "mimetype": "text/x-python",
   "name": "python",
   "nbconvert_exporter": "python",
   "pygments_lexer": "ipython3",
   "version": "3.6.7"
  }
 },
 "nbformat": 4,
 "nbformat_minor": 2
}
