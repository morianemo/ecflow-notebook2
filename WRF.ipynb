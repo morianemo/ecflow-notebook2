{
 "cells": [
  {
   "cell_type": "markdown",
   "metadata": {},
   "source": [
    "# WRF\n",
    "\n",
    "* [UCAR-WRF](http://www2.mmm.ucar.edu/wrf/users/downloads.html)\n",
    "* [Public Domain Notice](http://www2.mmm.ucar.edu/wrf/users/public.html)\n",
    "* [tutorial](http://www2.mmm.ucar.edu/wrf/OnLineTutorial/index.htm)\n",
    "* [registration](http://www2.mmm.ucar.edu/wrf/users/download/wrf-regist.php)\n",
    "* [src](http://www2.mmm.ucar.edu/wrf/users/download/get_sources.html)\n"
   ]
  },
  {
   "cell_type": "code",
   "execution_count": 3,
   "metadata": {},
   "outputs": [],
   "source": [
    "######################\n",
    "# from __future__ import print_function\n",
    "import os, sys; \n",
    "# lib = \"/usr/local/apps/ecflow/current/lib/python2.7/site-packages/ecflow\"\n",
    "lib = \"/usr/local/apps/ecflow/current/lib/python3.5/site-packages/ecflow\"\n",
    "lib = \"/usr/local/lib/python3.5/site-packages/ecflow\"\n",
    "sys.path.append(lib)\n",
    "import ecf; from ecf import (Client, Defs, Suite, Family, Task, Defstatus, Edit, Trigger)\n",
    "try: x = Edit(test=\"value\")  # Edit is present in recent ecf.py module\n",
    "except:\n",
    "    class Edit(Variables): pass\n",
    "home = os.getenv(\"HOME\") + \"/ecflow_server\"\n",
    "user = os.getenv(\"USER\")\n",
    "\n",
    "WRF=\"WRFV3.9.1.1.TAR.gz\"  # HERE A PYTHON VARIABLE\n",
    "FROM=\"http://www2.mmm.ucar.edu/wrf/src/WRFV3.9.1.1.TAR.gz\"    \n",
    "\n",
    "# SUITE\n",
    "node = Suite(\"WRF\").add(\n",
    "    Defstatus(\"suspended\"),\n",
    "    Edit(ECF_HOME=home, ECF_INCLUDE=home + \"/include\", ECF_FILES=home + \"/files\",\n",
    "         ECF_EXTN=\".ecg\",  # current convention for generated task template extension\n",
    "         ECF_JOB_CMD=\"%ECF_JOB% > %ECF_JOBOUT% 2>&1\",  # localhost run\n",
    "         ECF_URL_CMD=\"firefox %URL%\",\n",
    "         WRF=WRF,  # PYTHON VARIABLES IS TURNED INTO ECFLOW VARIABLE\n",
    "         FROM=FROM,\n",
    "         URL=\"http://lmdz.lmd.jussieu.fr/\", ),\n",
    "    Family(\"make\").add(\n",
    "        Family(\"get\").add(Task(\"cmd\").add(\n",
    "            # Defstatus(\"complete\")\n",
    "            Edit(CMD=\"WRF=%WRF%; FROM=%FROM%;\\n\" +  #ECFLOW VARIABLES TURNED INTO SCRIPT (SHELL) VARIABLE\n",
    "                 \"[ ! -d WRFV3 ] && curl -o $WRF.tgz $FROM && tar -xzvf $WRF.tgz\",\n",
    "                 ARGS=\"\"))),\n",
    "        Family(\"compile\").add(\n",
    "            Trigger([\"get\"]),\n",
    "            Task(\"cmd\").add(\n",
    "                Edit(CMD=\"cd WRFV3 && ./configure && make\")), \n",
    "        ), ),\n",
    "    Family(\"main\").add(Task(\"cmd\").add(Edit(CMD=\"echo\", ARGS=\"YOUR PART\"))))\n",
    "\n",
    "# TASK TEMPLATE\n",
    "with open(home + \"/files/cmd.ecg\", 'w') as task_template: print(\"\"\"#!/bin/bash\n",
    "%include <head.h>\n",
    " %CMD:echo% %ARGS:%\n",
    "%include <tail.h>\"\"\", file=task_template)\n",
    "\n",
    "# DEFS\n",
    "defs = Defs()\n",
    "defs.add_suite(node)\n",
    "path = '/' + node.name()\n",
    "\n",
    "# CLIENT\n",
    "client = Client(\"localhost@%s\" % os.getenv(\"ECF_PORT\", 2500))  # PYTHON CLIENT\n",
    "client.replace(path, defs)  # load/replace the top node (suite)\n",
    "client.begin_suite(node.name())  # BEGIN suite: UNKNOWN -> QUEUED\n",
    "client.resume(path) # RESUME suite: SUSPENDED -> create job and submit"
   ]
  },
  {
   "cell_type": "code",
   "execution_count": 2,
   "metadata": {},
   "outputs": [
    {
     "data": {
      "text/plain": [
       "0"
      ]
     },
     "execution_count": 2,
     "metadata": {},
     "output_type": "execute_result"
    }
   ],
   "source": [
    "os.system(\"ecflow_ui &\")"
   ]
  },
  {
   "cell_type": "code",
   "execution_count": null,
   "metadata": {},
   "outputs": [],
   "source": []
  }
 ],
 "metadata": {
  "kernelspec": {
   "display_name": "Python 3",
   "language": "python",
   "name": "python3"
  },
  "language_info": {
   "codemirror_mode": {
    "name": "ipython",
    "version": 3
   },
   "file_extension": ".py",
   "mimetype": "text/x-python",
   "name": "python",
   "nbconvert_exporter": "python",
   "pygments_lexer": "ipython3",
   "version": "3.6.7"
  }
 },
 "nbformat": 4,
 "nbformat_minor": 2
}
